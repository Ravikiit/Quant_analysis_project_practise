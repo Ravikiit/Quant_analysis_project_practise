{
  "nbformat": 4,
  "nbformat_minor": 0,
  "metadata": {
    "colab": {
      "name": "PART 1 : simple rate of returns.ipynb",
      "provenance": [],
      "authorship_tag": "ABX9TyNShwsAkrVe3f/Og1U4e3Bz",
      "include_colab_link": true
    },
    "kernelspec": {
      "name": "python3",
      "display_name": "Python 3"
    },
    "language_info": {
      "name": "python"
    }
  },
  "cells": [
    {
      "cell_type": "markdown",
      "metadata": {
        "id": "view-in-github",
        "colab_type": "text"
      },
      "source": [
        "<a href=\"https://colab.research.google.com/github/Ravikiit/Quant_analysis_project_practise/blob/main/PART_1_simple_rate_of_returns.ipynb\" target=\"_parent\"><img src=\"https://colab.research.google.com/assets/colab-badge.svg\" alt=\"Open In Colab\"/></a>"
      ]
    },
    {
      "cell_type": "code",
      "execution_count": 4,
      "metadata": {
        "id": "5udXz1ASm9Em"
      },
      "outputs": [],
      "source": [
        "import numpy as np\n",
        "import pandas as pd\n",
        "from pandas_datareader import data as wb"
      ]
    },
    {
      "cell_type": "code",
      "source": [
        "MSFT = pd.read_csv('MSFT_2000_2017.csv', index_col = 'Date')"
      ],
      "metadata": {
        "id": "3dS07exjnSvd"
      },
      "execution_count": 7,
      "outputs": []
    },
    {
      "cell_type": "code",
      "source": [
        "MSFT.head()"
      ],
      "metadata": {
        "colab": {
          "base_uri": "https://localhost:8080/",
          "height": 237
        },
        "id": "leppyahYnX2w",
        "outputId": "d2a8d905-9a93-4f66-ef6f-5effc55bc738"
      },
      "execution_count": 28,
      "outputs": [
        {
          "output_type": "execute_result",
          "data": {
            "text/plain": [
              "                Open     High      Low     Close  Adj Close    Volume  \\\n",
              "Date                                                                    \n",
              "1999-12-31  58.75000  58.8750  58.1250  58.37500  38.771053  12517600   \n",
              "2000-01-03  58.68750  59.3125  56.0000  58.28125  38.708794  53228400   \n",
              "2000-01-04  56.78125  58.5625  56.1250  56.31250  37.401215  54119000   \n",
              "2000-01-05  55.56250  58.1875  54.6875  56.90625  37.795563  64059600   \n",
              "2000-01-06  56.09375  56.9375  54.1875  55.00000  36.529484  54976600   \n",
              "\n",
              "            simple_return  \n",
              "Date                       \n",
              "1999-12-31            NaN  \n",
              "2000-01-03      -0.001606  \n",
              "2000-01-04      -0.033780  \n",
              "2000-01-05       0.010544  \n",
              "2000-01-06      -0.033498  "
            ],
            "text/html": [
              "\n",
              "  <div id=\"df-3d359e3c-1549-4f8c-a5f4-6d770eecda44\">\n",
              "    <div class=\"colab-df-container\">\n",
              "      <div>\n",
              "<style scoped>\n",
              "    .dataframe tbody tr th:only-of-type {\n",
              "        vertical-align: middle;\n",
              "    }\n",
              "\n",
              "    .dataframe tbody tr th {\n",
              "        vertical-align: top;\n",
              "    }\n",
              "\n",
              "    .dataframe thead th {\n",
              "        text-align: right;\n",
              "    }\n",
              "</style>\n",
              "<table border=\"1\" class=\"dataframe\">\n",
              "  <thead>\n",
              "    <tr style=\"text-align: right;\">\n",
              "      <th></th>\n",
              "      <th>Open</th>\n",
              "      <th>High</th>\n",
              "      <th>Low</th>\n",
              "      <th>Close</th>\n",
              "      <th>Adj Close</th>\n",
              "      <th>Volume</th>\n",
              "      <th>simple_return</th>\n",
              "    </tr>\n",
              "    <tr>\n",
              "      <th>Date</th>\n",
              "      <th></th>\n",
              "      <th></th>\n",
              "      <th></th>\n",
              "      <th></th>\n",
              "      <th></th>\n",
              "      <th></th>\n",
              "      <th></th>\n",
              "    </tr>\n",
              "  </thead>\n",
              "  <tbody>\n",
              "    <tr>\n",
              "      <th>1999-12-31</th>\n",
              "      <td>58.75000</td>\n",
              "      <td>58.8750</td>\n",
              "      <td>58.1250</td>\n",
              "      <td>58.37500</td>\n",
              "      <td>38.771053</td>\n",
              "      <td>12517600</td>\n",
              "      <td>NaN</td>\n",
              "    </tr>\n",
              "    <tr>\n",
              "      <th>2000-01-03</th>\n",
              "      <td>58.68750</td>\n",
              "      <td>59.3125</td>\n",
              "      <td>56.0000</td>\n",
              "      <td>58.28125</td>\n",
              "      <td>38.708794</td>\n",
              "      <td>53228400</td>\n",
              "      <td>-0.001606</td>\n",
              "    </tr>\n",
              "    <tr>\n",
              "      <th>2000-01-04</th>\n",
              "      <td>56.78125</td>\n",
              "      <td>58.5625</td>\n",
              "      <td>56.1250</td>\n",
              "      <td>56.31250</td>\n",
              "      <td>37.401215</td>\n",
              "      <td>54119000</td>\n",
              "      <td>-0.033780</td>\n",
              "    </tr>\n",
              "    <tr>\n",
              "      <th>2000-01-05</th>\n",
              "      <td>55.56250</td>\n",
              "      <td>58.1875</td>\n",
              "      <td>54.6875</td>\n",
              "      <td>56.90625</td>\n",
              "      <td>37.795563</td>\n",
              "      <td>64059600</td>\n",
              "      <td>0.010544</td>\n",
              "    </tr>\n",
              "    <tr>\n",
              "      <th>2000-01-06</th>\n",
              "      <td>56.09375</td>\n",
              "      <td>56.9375</td>\n",
              "      <td>54.1875</td>\n",
              "      <td>55.00000</td>\n",
              "      <td>36.529484</td>\n",
              "      <td>54976600</td>\n",
              "      <td>-0.033498</td>\n",
              "    </tr>\n",
              "  </tbody>\n",
              "</table>\n",
              "</div>\n",
              "      <button class=\"colab-df-convert\" onclick=\"convertToInteractive('df-3d359e3c-1549-4f8c-a5f4-6d770eecda44')\"\n",
              "              title=\"Convert this dataframe to an interactive table.\"\n",
              "              style=\"display:none;\">\n",
              "        \n",
              "  <svg xmlns=\"http://www.w3.org/2000/svg\" height=\"24px\"viewBox=\"0 0 24 24\"\n",
              "       width=\"24px\">\n",
              "    <path d=\"M0 0h24v24H0V0z\" fill=\"none\"/>\n",
              "    <path d=\"M18.56 5.44l.94 2.06.94-2.06 2.06-.94-2.06-.94-.94-2.06-.94 2.06-2.06.94zm-11 1L8.5 8.5l.94-2.06 2.06-.94-2.06-.94L8.5 2.5l-.94 2.06-2.06.94zm10 10l.94 2.06.94-2.06 2.06-.94-2.06-.94-.94-2.06-.94 2.06-2.06.94z\"/><path d=\"M17.41 7.96l-1.37-1.37c-.4-.4-.92-.59-1.43-.59-.52 0-1.04.2-1.43.59L10.3 9.45l-7.72 7.72c-.78.78-.78 2.05 0 2.83L4 21.41c.39.39.9.59 1.41.59.51 0 1.02-.2 1.41-.59l7.78-7.78 2.81-2.81c.8-.78.8-2.07 0-2.86zM5.41 20L4 18.59l7.72-7.72 1.47 1.35L5.41 20z\"/>\n",
              "  </svg>\n",
              "      </button>\n",
              "      \n",
              "  <style>\n",
              "    .colab-df-container {\n",
              "      display:flex;\n",
              "      flex-wrap:wrap;\n",
              "      gap: 12px;\n",
              "    }\n",
              "\n",
              "    .colab-df-convert {\n",
              "      background-color: #E8F0FE;\n",
              "      border: none;\n",
              "      border-radius: 50%;\n",
              "      cursor: pointer;\n",
              "      display: none;\n",
              "      fill: #1967D2;\n",
              "      height: 32px;\n",
              "      padding: 0 0 0 0;\n",
              "      width: 32px;\n",
              "    }\n",
              "\n",
              "    .colab-df-convert:hover {\n",
              "      background-color: #E2EBFA;\n",
              "      box-shadow: 0px 1px 2px rgba(60, 64, 67, 0.3), 0px 1px 3px 1px rgba(60, 64, 67, 0.15);\n",
              "      fill: #174EA6;\n",
              "    }\n",
              "\n",
              "    [theme=dark] .colab-df-convert {\n",
              "      background-color: #3B4455;\n",
              "      fill: #D2E3FC;\n",
              "    }\n",
              "\n",
              "    [theme=dark] .colab-df-convert:hover {\n",
              "      background-color: #434B5C;\n",
              "      box-shadow: 0px 1px 3px 1px rgba(0, 0, 0, 0.15);\n",
              "      filter: drop-shadow(0px 1px 2px rgba(0, 0, 0, 0.3));\n",
              "      fill: #FFFFFF;\n",
              "    }\n",
              "  </style>\n",
              "\n",
              "      <script>\n",
              "        const buttonEl =\n",
              "          document.querySelector('#df-3d359e3c-1549-4f8c-a5f4-6d770eecda44 button.colab-df-convert');\n",
              "        buttonEl.style.display =\n",
              "          google.colab.kernel.accessAllowed ? 'block' : 'none';\n",
              "\n",
              "        async function convertToInteractive(key) {\n",
              "          const element = document.querySelector('#df-3d359e3c-1549-4f8c-a5f4-6d770eecda44');\n",
              "          const dataTable =\n",
              "            await google.colab.kernel.invokeFunction('convertToInteractive',\n",
              "                                                     [key], {});\n",
              "          if (!dataTable) return;\n",
              "\n",
              "          const docLinkHtml = 'Like what you see? Visit the ' +\n",
              "            '<a target=\"_blank\" href=https://colab.research.google.com/notebooks/data_table.ipynb>data table notebook</a>'\n",
              "            + ' to learn more about interactive tables.';\n",
              "          element.innerHTML = '';\n",
              "          dataTable['output_type'] = 'display_data';\n",
              "          await google.colab.output.renderOutput(dataTable, element);\n",
              "          const docLink = document.createElement('div');\n",
              "          docLink.innerHTML = docLinkHtml;\n",
              "          element.appendChild(docLink);\n",
              "        }\n",
              "      </script>\n",
              "    </div>\n",
              "  </div>\n",
              "  "
            ]
          },
          "metadata": {},
          "execution_count": 28
        }
      ]
    },
    {
      "cell_type": "code",
      "source": [
        "MSFT.tail()"
      ],
      "metadata": {
        "colab": {
          "base_uri": "https://localhost:8080/",
          "height": 237
        },
        "id": "efTTXkexnble",
        "outputId": "bdd3d028-6e47-416d-ae0a-73e5c98f23e7"
      },
      "execution_count": 8,
      "outputs": [
        {
          "output_type": "execute_result",
          "data": {
            "text/plain": [
              "                 Open       High        Low      Close  Adj Close    Volume\n",
              "Date                                                                       \n",
              "2017-12-06  81.550003  83.139999  81.430000  82.779999  82.779999  26162100\n",
              "2017-12-07  82.540001  82.800003  82.000000  82.489998  82.489998  23184500\n",
              "2017-12-08  83.629997  84.580002  83.330002  84.160004  84.160004  24489100\n",
              "2017-12-11  84.290001  85.370003  84.120003  85.230003  85.230003  20121700\n",
              "2017-12-12  85.309998  86.050003  85.080002  85.529999  85.529999   7805031"
            ],
            "text/html": [
              "\n",
              "  <div id=\"df-020ef607-8d9e-487a-b666-88ccaa1f8707\">\n",
              "    <div class=\"colab-df-container\">\n",
              "      <div>\n",
              "<style scoped>\n",
              "    .dataframe tbody tr th:only-of-type {\n",
              "        vertical-align: middle;\n",
              "    }\n",
              "\n",
              "    .dataframe tbody tr th {\n",
              "        vertical-align: top;\n",
              "    }\n",
              "\n",
              "    .dataframe thead th {\n",
              "        text-align: right;\n",
              "    }\n",
              "</style>\n",
              "<table border=\"1\" class=\"dataframe\">\n",
              "  <thead>\n",
              "    <tr style=\"text-align: right;\">\n",
              "      <th></th>\n",
              "      <th>Open</th>\n",
              "      <th>High</th>\n",
              "      <th>Low</th>\n",
              "      <th>Close</th>\n",
              "      <th>Adj Close</th>\n",
              "      <th>Volume</th>\n",
              "    </tr>\n",
              "    <tr>\n",
              "      <th>Date</th>\n",
              "      <th></th>\n",
              "      <th></th>\n",
              "      <th></th>\n",
              "      <th></th>\n",
              "      <th></th>\n",
              "      <th></th>\n",
              "    </tr>\n",
              "  </thead>\n",
              "  <tbody>\n",
              "    <tr>\n",
              "      <th>2017-12-06</th>\n",
              "      <td>81.550003</td>\n",
              "      <td>83.139999</td>\n",
              "      <td>81.430000</td>\n",
              "      <td>82.779999</td>\n",
              "      <td>82.779999</td>\n",
              "      <td>26162100</td>\n",
              "    </tr>\n",
              "    <tr>\n",
              "      <th>2017-12-07</th>\n",
              "      <td>82.540001</td>\n",
              "      <td>82.800003</td>\n",
              "      <td>82.000000</td>\n",
              "      <td>82.489998</td>\n",
              "      <td>82.489998</td>\n",
              "      <td>23184500</td>\n",
              "    </tr>\n",
              "    <tr>\n",
              "      <th>2017-12-08</th>\n",
              "      <td>83.629997</td>\n",
              "      <td>84.580002</td>\n",
              "      <td>83.330002</td>\n",
              "      <td>84.160004</td>\n",
              "      <td>84.160004</td>\n",
              "      <td>24489100</td>\n",
              "    </tr>\n",
              "    <tr>\n",
              "      <th>2017-12-11</th>\n",
              "      <td>84.290001</td>\n",
              "      <td>85.370003</td>\n",
              "      <td>84.120003</td>\n",
              "      <td>85.230003</td>\n",
              "      <td>85.230003</td>\n",
              "      <td>20121700</td>\n",
              "    </tr>\n",
              "    <tr>\n",
              "      <th>2017-12-12</th>\n",
              "      <td>85.309998</td>\n",
              "      <td>86.050003</td>\n",
              "      <td>85.080002</td>\n",
              "      <td>85.529999</td>\n",
              "      <td>85.529999</td>\n",
              "      <td>7805031</td>\n",
              "    </tr>\n",
              "  </tbody>\n",
              "</table>\n",
              "</div>\n",
              "      <button class=\"colab-df-convert\" onclick=\"convertToInteractive('df-020ef607-8d9e-487a-b666-88ccaa1f8707')\"\n",
              "              title=\"Convert this dataframe to an interactive table.\"\n",
              "              style=\"display:none;\">\n",
              "        \n",
              "  <svg xmlns=\"http://www.w3.org/2000/svg\" height=\"24px\"viewBox=\"0 0 24 24\"\n",
              "       width=\"24px\">\n",
              "    <path d=\"M0 0h24v24H0V0z\" fill=\"none\"/>\n",
              "    <path d=\"M18.56 5.44l.94 2.06.94-2.06 2.06-.94-2.06-.94-.94-2.06-.94 2.06-2.06.94zm-11 1L8.5 8.5l.94-2.06 2.06-.94-2.06-.94L8.5 2.5l-.94 2.06-2.06.94zm10 10l.94 2.06.94-2.06 2.06-.94-2.06-.94-.94-2.06-.94 2.06-2.06.94z\"/><path d=\"M17.41 7.96l-1.37-1.37c-.4-.4-.92-.59-1.43-.59-.52 0-1.04.2-1.43.59L10.3 9.45l-7.72 7.72c-.78.78-.78 2.05 0 2.83L4 21.41c.39.39.9.59 1.41.59.51 0 1.02-.2 1.41-.59l7.78-7.78 2.81-2.81c.8-.78.8-2.07 0-2.86zM5.41 20L4 18.59l7.72-7.72 1.47 1.35L5.41 20z\"/>\n",
              "  </svg>\n",
              "      </button>\n",
              "      \n",
              "  <style>\n",
              "    .colab-df-container {\n",
              "      display:flex;\n",
              "      flex-wrap:wrap;\n",
              "      gap: 12px;\n",
              "    }\n",
              "\n",
              "    .colab-df-convert {\n",
              "      background-color: #E8F0FE;\n",
              "      border: none;\n",
              "      border-radius: 50%;\n",
              "      cursor: pointer;\n",
              "      display: none;\n",
              "      fill: #1967D2;\n",
              "      height: 32px;\n",
              "      padding: 0 0 0 0;\n",
              "      width: 32px;\n",
              "    }\n",
              "\n",
              "    .colab-df-convert:hover {\n",
              "      background-color: #E2EBFA;\n",
              "      box-shadow: 0px 1px 2px rgba(60, 64, 67, 0.3), 0px 1px 3px 1px rgba(60, 64, 67, 0.15);\n",
              "      fill: #174EA6;\n",
              "    }\n",
              "\n",
              "    [theme=dark] .colab-df-convert {\n",
              "      background-color: #3B4455;\n",
              "      fill: #D2E3FC;\n",
              "    }\n",
              "\n",
              "    [theme=dark] .colab-df-convert:hover {\n",
              "      background-color: #434B5C;\n",
              "      box-shadow: 0px 1px 3px 1px rgba(0, 0, 0, 0.15);\n",
              "      filter: drop-shadow(0px 1px 2px rgba(0, 0, 0, 0.3));\n",
              "      fill: #FFFFFF;\n",
              "    }\n",
              "  </style>\n",
              "\n",
              "      <script>\n",
              "        const buttonEl =\n",
              "          document.querySelector('#df-020ef607-8d9e-487a-b666-88ccaa1f8707 button.colab-df-convert');\n",
              "        buttonEl.style.display =\n",
              "          google.colab.kernel.accessAllowed ? 'block' : 'none';\n",
              "\n",
              "        async function convertToInteractive(key) {\n",
              "          const element = document.querySelector('#df-020ef607-8d9e-487a-b666-88ccaa1f8707');\n",
              "          const dataTable =\n",
              "            await google.colab.kernel.invokeFunction('convertToInteractive',\n",
              "                                                     [key], {});\n",
              "          if (!dataTable) return;\n",
              "\n",
              "          const docLinkHtml = 'Like what you see? Visit the ' +\n",
              "            '<a target=\"_blank\" href=https://colab.research.google.com/notebooks/data_table.ipynb>data table notebook</a>'\n",
              "            + ' to learn more about interactive tables.';\n",
              "          element.innerHTML = '';\n",
              "          dataTable['output_type'] = 'display_data';\n",
              "          await google.colab.output.renderOutput(dataTable, element);\n",
              "          const docLink = document.createElement('div');\n",
              "          docLink.innerHTML = docLinkHtml;\n",
              "          element.appendChild(docLink);\n",
              "        }\n",
              "      </script>\n",
              "    </div>\n",
              "  </div>\n",
              "  "
            ]
          },
          "metadata": {},
          "execution_count": 8
        }
      ]
    },
    {
      "cell_type": "code",
      "source": [
        "MSFT['simple_return'] = (MSFT['Adj Close'] / MSFT['Adj Close'].shift(1)) - 1\n",
        "print (MSFT['simple_return'])"
      ],
      "metadata": {
        "colab": {
          "base_uri": "https://localhost:8080/"
        },
        "id": "cBFk81F2ndqw",
        "outputId": "88af2abc-2b5b-4da1-8f43-3c8337773e36"
      },
      "execution_count": 9,
      "outputs": [
        {
          "output_type": "stream",
          "name": "stdout",
          "text": [
            "Date\n",
            "1999-12-31         NaN\n",
            "2000-01-03   -0.001606\n",
            "2000-01-04   -0.033780\n",
            "2000-01-05    0.010544\n",
            "2000-01-06   -0.033498\n",
            "                ...   \n",
            "2017-12-06    0.014585\n",
            "2017-12-07   -0.003503\n",
            "2017-12-08    0.020245\n",
            "2017-12-11    0.012714\n",
            "2017-12-12    0.003520\n",
            "Name: simple_return, Length: 4517, dtype: float64\n"
          ]
        }
      ]
    },
    {
      "cell_type": "code",
      "source": [
        "import matplotlib.pyplot as plt"
      ],
      "metadata": {
        "id": "qJRIibxmnhU-"
      },
      "execution_count": 2,
      "outputs": []
    },
    {
      "cell_type": "code",
      "source": [
        "MSFT['simple_return'].plot(figsize=(8, 5))\n",
        "plt.show()"
      ],
      "metadata": {
        "id": "q6mkxpdbuGOG",
        "outputId": "809b532b-3d20-4397-c7da-0073a8a88e43",
        "colab": {
          "base_uri": "https://localhost:8080/",
          "height": 334
        }
      },
      "execution_count": 11,
      "outputs": [
        {
          "output_type": "display_data",
          "data": {
            "text/plain": [
              "<Figure size 576x360 with 1 Axes>"
            ],
            "image/png": "[encoded data removed]"
          },
          "metadata": {
            "needs_background": "light"
          }
        }
      ]
    },
    {
      "cell_type": "code",
      "source": [
        "avg_returns_d = MSFT['simple_return'].mean()\n",
        "avg_returns_d"
      ],
      "metadata": {
        "id": "62WoNxnouZnQ",
        "outputId": "f0899108-91df-4e46-d6f5-1559ee80e8bc",
        "colab": {
          "base_uri": "https://localhost:8080/"
        }
      },
      "execution_count": 13,
      "outputs": [
        {
          "output_type": "execute_result",
          "data": {
            "text/plain": [
              "0.00036250887702754563"
            ]
          },
          "metadata": {},
          "execution_count": 13
        }
      ]
    },
    {
      "cell_type": "code",
      "source": [
        "avg_returns_a = MSFT['simple_return'].mean() * 250\n",
        "avg_returns_a"
      ],
      "metadata": {
        "id": "10Li678TudXO",
        "outputId": "5149dfad-be4e-4d44-fcba-658c26e34357",
        "colab": {
          "base_uri": "https://localhost:8080/"
        }
      },
      "execution_count": 15,
      "outputs": [
        {
          "output_type": "execute_result",
          "data": {
            "text/plain": [
              "0.09062721925688641"
            ]
          },
          "metadata": {},
          "execution_count": 15
        }
      ]
    },
    {
      "cell_type": "code",
      "source": [
        "print \n",
        "str(round(avg_returns_a, 4)* 100) +'%'"
      ],
      "metadata": {
        "id": "JB9usAeNuiIr",
        "outputId": "7ff33d68-1af6-4934-8eb0-7d757154a730",
        "colab": {
          "base_uri": "https://localhost:8080/",
          "height": 35
        }
      },
      "execution_count": 27,
      "outputs": [
        {
          "output_type": "execute_result",
          "data": {
            "text/plain": [
              "'9.06%'"
            ],
            "application/vnd.google.colaboratory.intrinsic+json": {
              "type": "string"
            }
          },
          "metadata": {},
          "execution_count": 27
        }
      ]
    }
  ]
}